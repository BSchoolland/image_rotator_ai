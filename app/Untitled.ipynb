{
 "cells": [
  {
   "cell_type": "markdown",
   "id": "6b3464db-7baf-4180-8471-080befc9f601",
   "metadata": {},
   "source": [
    "# File for testing model inference"
   ]
  },
  {
   "cell_type": "code",
   "execution_count": null,
   "id": "3c8e9548-ce51-4f80-94c3-74c423573d8e",
   "metadata": {},
   "outputs": [],
   "source": []
  }
 ],
 "metadata": {
  "kernelspec": {
   "display_name": "Python 3 (ipykernel)",
   "language": "python",
   "name": "python3"
  },
  "language_info": {
   "codemirror_mode": {
    "name": "ipython",
    "version": 3
   },
   "file_extension": ".py",
   "mimetype": "text/x-python",
   "name": "python",
   "nbconvert_exporter": "python",
   "pygments_lexer": "ipython3",
   "version": "3.8.10"
  }
 },
 "nbformat": 4,
 "nbformat_minor": 5
}
