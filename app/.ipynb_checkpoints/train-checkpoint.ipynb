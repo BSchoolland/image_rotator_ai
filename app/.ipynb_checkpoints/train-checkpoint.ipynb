{
 "cells": [
  {
   "cell_type": "markdown",
   "id": "f8cc28e8-233b-426e-b4c2-d3d5c5ec0af2",
   "metadata": {},
   "source": [
    "# Program for training the image orientation model"
   ]
  },
  {
   "cell_type": "code",
   "execution_count": 2,
   "id": "3b4b3253-44a6-4885-8b1a-c2cfb5f3f7d3",
   "metadata": {},
   "outputs": [],
   "source": [
    "import os\n",
    "import numpy as np\n",
    "import matplotlib.pyplot as plt"
   ]
  },
  {
   "cell_type": "code",
   "execution_count": null,
   "id": "28c579d9-103b-4bb4-8788-27176a4bd19b",
   "metadata": {},
   "outputs": [],
   "source": []
  }
 ],
 "metadata": {
  "kernelspec": {
   "display_name": "Python 3 (ipykernel)",
   "language": "python",
   "name": "python3"
  },
  "language_info": {
   "codemirror_mode": {
    "name": "ipython",
    "version": 3
   },
   "file_extension": ".py",
   "mimetype": "text/x-python",
   "name": "python",
   "nbconvert_exporter": "python",
   "pygments_lexer": "ipython3",
   "version": "3.8.10"
  }
 },
 "nbformat": 4,
 "nbformat_minor": 5
}
