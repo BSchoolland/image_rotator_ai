{
 "cells": [
  {
   "cell_type": "markdown",
   "id": "f8cc28e8-233b-426e-b4c2-d3d5c5ec0af2",
   "metadata": {},
   "source": [
    "# Program for training the image orientation model"
   ]
  },
  {
   "cell_type": "markdown",
   "id": "3621c7fc-cdcc-480a-9e25-facaf33a740b",
   "metadata": {},
   "source": [
    "### import stuff"
   ]
  },
  {
   "cell_type": "code",
   "execution_count": 2,
   "id": "3b4b3253-44a6-4885-8b1a-c2cfb5f3f7d3",
   "metadata": {},
   "outputs": [],
   "source": [
    "import os\n",
    "import numpy as np\n",
    "import matplotlib.pyplot as plt"
   ]
  },
  {
   "cell_type": "markdown",
   "id": "0894df6f-69d8-446e-aac3-2e0dd4e9038f",
   "metadata": {},
   "source": [
    "### import tensorflow for the machine learning model"
   ]
  },
  {
   "cell_type": "code",
   "execution_count": null,
   "id": "2df0a576-c2f4-45fe-a631-7f6090248fa9",
   "metadata": {},
   "outputs": [],
   "source": [
    "from tensorflow.keras.preprocessing.image import ImageDataGenerator\n",
    "from tensorflow.keras.models import Sequential\n",
    "from tensorflow.keras.layers import Conv2D, MaxPooling2D, Flatten, Dense, Dropout\n",
    "from tensorflow.keras.regularizers import l2"
   ]
  },
  {
   "cell_type": "code",
   "execution_count": null,
   "id": "bd8c24e1-cd10-437a-b56e-4ada9793a564",
   "metadata": {},
   "outputs": [],
   "source": [
    "### function that takes an image and returns many permutations of it in different orientations and lightings"
   ]
  },
  {
   "cell_type": "markdown",
   "id": "af8bee6a-3a2f-4afb-966f-36691034ada7",
   "metadata": {},
   "source": [
    "### initialize the data"
   ]
  },
  {
   "cell_type": "code",
   "execution_count": null,
   "id": "b742a6d0-6aec-41eb-b3b9-026a6f4388f1",
   "metadata": {},
   "outputs": [],
   "source": [
    "data_dir = \"data\"\n",
    "augmented_data_dir = \"augmented-data\"\n",
    "# get all images from the dir and create 4 versions, one in each orientation"
   ]
  },
  {
   "cell_type": "code",
   "execution_count": null,
   "id": "3acf9dd3-f4b4-40b2-93c7-b3e5f2f0df84",
   "metadata": {},
   "outputs": [],
   "source": []
  },
  {
   "cell_type": "code",
   "execution_count": null,
   "id": "83f81048-7931-4fe1-86f8-aa834f7c8657",
   "metadata": {},
   "outputs": [],
   "source": []
  }
 ],
 "metadata": {
  "kernelspec": {
   "display_name": "Python 3 (ipykernel)",
   "language": "python",
   "name": "python3"
  },
  "language_info": {
   "codemirror_mode": {
    "name": "ipython",
    "version": 3
   },
   "file_extension": ".py",
   "mimetype": "text/x-python",
   "name": "python",
   "nbconvert_exporter": "python",
   "pygments_lexer": "ipython3",
   "version": "3.8.10"
  }
 },
 "nbformat": 4,
 "nbformat_minor": 5
}
