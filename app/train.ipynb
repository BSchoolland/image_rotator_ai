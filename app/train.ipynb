{
 "cells": [
  {
   "cell_type": "markdown",
   "id": "268084b2-bf2f-4d4a-9bcf-f4a639aa6357",
   "metadata": {},
   "source": [
    "# import libraries"
   ]
  },
  {
   "cell_type": "code",
   "execution_count": 8,
   "id": "eee2c2ac-4704-4d60-a651-1bd8efbce1c0",
   "metadata": {},
   "outputs": [],
   "source": [
    "import os\n",
    "import numpy as np\n",
    "import matplotlib.pyplot as plt\n",
    "from tensorflow.keras.preprocessing.image import ImageDataGenerator\n",
    "from tensorflow.keras.models import Sequential\n",
    "from tensorflow.keras.layers import Conv2D, MaxPooling2D, Flatten, Dense, Dropout\n",
    "from tensorflow.keras.regularizers import l2\n"
   ]
  },
  {
   "cell_type": "markdown",
   "id": "2d5f88fb-e8e6-4081-b420-890e4eecc918",
   "metadata": {},
   "source": [
    "# define paths and Parameters"
   ]
  },
  {
   "cell_type": "code",
   "execution_count": 9,
   "id": "2fd58e7d-fd93-4481-8d78-e15207bc9b19",
   "metadata": {},
   "outputs": [],
   "source": [
    "# Define paths\n",
    "data_dir = 'output'\n",
    "class_types = ['0_degrees', '90_degrees', '180_degrees', '270_degrees']\n",
    "\n",
    "# Image parameters\n",
    "img_height, img_width = 128, 128\n",
    "batch_size = 32\n"
   ]
  },
  {
   "cell_type": "markdown",
   "id": "578bf66f-e7e7-4282-a115-6cff3a8e0a48",
   "metadata": {},
   "source": [
    "# Create imageDataGen and Load Training Data"
   ]
  },
  {
   "cell_type": "code",
   "execution_count": 10,
   "id": "3d0cae2f-63b8-42bc-b774-04485d31c527",
   "metadata": {},
   "outputs": [
    {
     "name": "stdout",
     "output_type": "stream",
     "text": [
      "Found 1328 images belonging to 4 classes.\n",
      "Number of training samples: 1328\n"
     ]
    }
   ],
   "source": [
    "# Create an ImageDataGenerator for data augmentation and loading\n",
    "datagen = ImageDataGenerator(rescale=1./255, validation_split=0.2)\n",
    "\n",
    "# Load training data\n",
    "train_generator = datagen.flow_from_directory(\n",
    "    data_dir,\n",
    "    target_size=(img_height, img_width),\n",
    "    batch_size=batch_size,\n",
    "    class_mode='categorical',\n",
    "    subset='training'\n",
    ")\n",
    "\n",
    "# Log the number of training samples\n",
    "print(f'Number of training samples: {train_generator.samples}')\n"
   ]
  },
  {
   "cell_type": "markdown",
   "id": "7685811c-b9ec-4139-88a1-40b45380aa49",
   "metadata": {},
   "source": [
    "# Load Validation Data"
   ]
  },
  {
   "cell_type": "code",
   "execution_count": 11,
   "id": "d63c40cf-d2db-4f18-91e9-81210af2d812",
   "metadata": {},
   "outputs": [
    {
     "name": "stdout",
     "output_type": "stream",
     "text": [
      "Found 328 images belonging to 4 classes.\n"
     ]
    }
   ],
   "source": [
    "# Load validation data\n",
    "validation_generator = datagen.flow_from_directory(\n",
    "    data_dir,\n",
    "    target_size=(img_height, img_width),\n",
    "    batch_size=batch_size,\n",
    "    class_mode='categorical',\n",
    "    subset='validation'\n",
    ")\n"
   ]
  },
  {
   "cell_type": "markdown",
   "id": "86f91a98-efdb-41a6-8add-f6fe9eb1a47d",
   "metadata": {},
   "source": [
    "# Define the CNN Model"
   ]
  },
  {
   "cell_type": "code",
   "execution_count": 26,
   "id": "a74c4b43-a36c-4dc8-90c1-55de99a912c0",
   "metadata": {},
   "outputs": [],
   "source": [
    "# Define the CNN model\n",
    "model = Sequential([\n",
    "    Conv2D(32, (3, 3), activation='relu', input_shape=(img_height, img_width, 3), kernel_regularizer=l2(0.01)),\n",
    "    MaxPooling2D((2, 2)),\n",
    "    Dropout(0.2),\n",
    "\n",
    "    Conv2D(64, (3, 3), activation='relu', kernel_regularizer=l2(0.01)),\n",
    "    MaxPooling2D((2, 2)),\n",
    "    Dropout(0.2),\n",
    "\n",
    "\n",
    "    Conv2D(128, (3, 3), activation='relu', kernel_regularizer=l2(0.01)),\n",
    "    MaxPooling2D((2, 2)),\n",
    "    Dropout(0.2),\n",
    "\n",
    "    Flatten(),\n",
    "    Dense(1024, activation='relu', kernel_regularizer=l2(0.01)),\n",
    "    Dropout(0.2),\n",
    "\n",
    "    Dense(512, activation='relu', kernel_regularizer=l2(0.01)),\n",
    "    Dense(len(class_types), activation='softmax')\n",
    "])\n"
   ]
  },
  {
   "cell_type": "markdown",
   "id": "9349ee28-8740-4cf2-a46f-e1c0e684b0b8",
   "metadata": {},
   "source": [
    "# Compile the Model"
   ]
  },
  {
   "cell_type": "code",
   "execution_count": 27,
   "id": "bbcee21a-f2ce-4e0c-a6d3-27ff91194660",
   "metadata": {},
   "outputs": [],
   "source": [
    "# Compile the model\n",
    "model.compile(optimizer='adam', \n",
    "              loss='categorical_crossentropy', \n",
    "              metrics=['accuracy'])\n"
   ]
  },
  {
   "cell_type": "markdown",
   "id": "831de6b5-21b7-4a8c-9c86-b54fd3cd69f6",
   "metadata": {},
   "source": [
    "# Train the Model"
   ]
  },
  {
   "cell_type": "code",
   "execution_count": 28,
   "id": "0ff65f4c-c11a-4f76-966f-b183f826d242",
   "metadata": {},
   "outputs": [
    {
     "name": "stdout",
     "output_type": "stream",
     "text": [
      "Epoch 1/15\n"
     ]
    },
    {
     "name": "stderr",
     "output_type": "stream",
     "text": [
      "2024-07-18 21:00:35.175014: I tensorflow/core/common_runtime/executor.cc:1197] [/device:CPU:0] (DEBUG INFO) Executor start aborting (this does not indicate an error and you can ignore this message): INVALID_ARGUMENT: You must feed a value for placeholder tensor 'Placeholder/_0' with dtype int32\n",
      "\t [[{{node Placeholder/_0}}]]\n",
      "2024-07-18 21:00:35.997684: E tensorflow/core/grappler/optimizers/meta_optimizer.cc:954] layout failed: INVALID_ARGUMENT: Size of values 0 does not match size of permutation 4 @ fanin shape insequential_3/dropout_3/dropout/SelectV2-2-TransposeNHWCToNCHW-LayoutOptimizer\n"
     ]
    },
    {
     "name": "stdout",
     "output_type": "stream",
     "text": [
      "41/42 [============================>.] - ETA: 0s - loss: 10.5162 - accuracy: 0.2500"
     ]
    },
    {
     "name": "stderr",
     "output_type": "stream",
     "text": [
      "2024-07-18 21:00:39.197003: I tensorflow/core/common_runtime/executor.cc:1197] [/device:CPU:0] (DEBUG INFO) Executor start aborting (this does not indicate an error and you can ignore this message): INVALID_ARGUMENT: You must feed a value for placeholder tensor 'Placeholder/_0' with dtype int32\n",
      "\t [[{{node Placeholder/_0}}]]\n"
     ]
    },
    {
     "name": "stdout",
     "output_type": "stream",
     "text": [
      "42/42 [==============================] - 4s 58ms/step - loss: 10.3614 - accuracy: 0.2545 - val_loss: 4.0086 - val_accuracy: 0.2500\n",
      "Epoch 2/15\n",
      "42/42 [==============================] - 2s 52ms/step - loss: 3.0419 - accuracy: 0.2658 - val_loss: 2.4705 - val_accuracy: 0.2500\n",
      "Epoch 3/15\n",
      "42/42 [==============================] - 2s 53ms/step - loss: 2.1729 - accuracy: 0.4631 - val_loss: 1.9957 - val_accuracy: 0.5823\n",
      "Epoch 4/15\n",
      "42/42 [==============================] - 2s 54ms/step - loss: 1.6295 - accuracy: 0.7199 - val_loss: 1.3325 - val_accuracy: 0.8049\n",
      "Epoch 5/15\n",
      "42/42 [==============================] - 2s 55ms/step - loss: 1.1115 - accuracy: 0.8569 - val_loss: 1.0705 - val_accuracy: 0.8171\n",
      "Epoch 6/15\n",
      "42/42 [==============================] - 2s 53ms/step - loss: 0.8860 - accuracy: 0.8938 - val_loss: 1.0738 - val_accuracy: 0.8506\n",
      "Epoch 7/15\n",
      "42/42 [==============================] - 2s 54ms/step - loss: 0.7330 - accuracy: 0.9375 - val_loss: 1.1257 - val_accuracy: 0.8354\n",
      "Epoch 8/15\n",
      "42/42 [==============================] - 2s 56ms/step - loss: 0.6328 - accuracy: 0.9398 - val_loss: 0.8589 - val_accuracy: 0.8567\n",
      "Epoch 9/15\n",
      "42/42 [==============================] - 2s 54ms/step - loss: 0.5316 - accuracy: 0.9578 - val_loss: 1.0701 - val_accuracy: 0.8537\n",
      "Epoch 10/15\n",
      "42/42 [==============================] - 2s 53ms/step - loss: 0.4715 - accuracy: 0.9586 - val_loss: 0.8802 - val_accuracy: 0.8598\n",
      "Epoch 11/15\n",
      "42/42 [==============================] - 2s 53ms/step - loss: 0.4330 - accuracy: 0.9586 - val_loss: 0.9932 - val_accuracy: 0.8537\n",
      "Epoch 12/15\n",
      "42/42 [==============================] - 2s 53ms/step - loss: 0.4251 - accuracy: 0.9548 - val_loss: 0.7818 - val_accuracy: 0.8506\n",
      "Epoch 13/15\n",
      "42/42 [==============================] - 2s 54ms/step - loss: 0.4383 - accuracy: 0.9556 - val_loss: 0.8017 - val_accuracy: 0.8659\n",
      "Epoch 14/15\n",
      "42/42 [==============================] - 2s 54ms/step - loss: 0.3947 - accuracy: 0.9623 - val_loss: 0.8590 - val_accuracy: 0.8598\n",
      "Epoch 15/15\n",
      "42/42 [==============================] - 2s 54ms/step - loss: 0.3808 - accuracy: 0.9526 - val_loss: 1.0933 - val_accuracy: 0.8445\n"
     ]
    }
   ],
   "source": [
    "# Train the model\n",
    "history = model.fit(\n",
    "    train_generator,\n",
    "    epochs=15,\n",
    "    validation_data=validation_generator\n",
    ")\n"
   ]
  },
  {
   "cell_type": "markdown",
   "id": "70f78934-f537-46d5-8a94-e52c01b1f7ac",
   "metadata": {},
   "source": [
    "# Evaluate the Model"
   ]
  },
  {
   "cell_type": "code",
   "execution_count": 29,
   "id": "22529fe3-1fa2-445e-8dc0-97c87db775cc",
   "metadata": {},
   "outputs": [
    {
     "name": "stdout",
     "output_type": "stream",
     "text": [
      " 3/11 [=======>......................] - ETA: 0s - loss: 1.2586 - accuracy: 0.8333"
     ]
    },
    {
     "name": "stderr",
     "output_type": "stream",
     "text": [
      "2024-07-18 21:01:16.890368: I tensorflow/core/common_runtime/executor.cc:1197] [/device:CPU:0] (DEBUG INFO) Executor start aborting (this does not indicate an error and you can ignore this message): INVALID_ARGUMENT: You must feed a value for placeholder tensor 'Placeholder/_0' with dtype int32\n",
      "\t [[{{node Placeholder/_0}}]]\n"
     ]
    },
    {
     "name": "stdout",
     "output_type": "stream",
     "text": [
      "11/11 [==============================] - 0s 32ms/step - loss: 1.0933 - accuracy: 0.8445\n",
      "Validation accuracy: 0.8445122241973877\n"
     ]
    }
   ],
   "source": [
    "# Evaluate the model\n",
    "loss, accuracy = model.evaluate(validation_generator)\n",
    "print(f'Validation accuracy: {accuracy}')\n"
   ]
  },
  {
   "cell_type": "markdown",
   "id": "d05bea63-1487-48e2-9dcc-9addc6ea1572",
   "metadata": {},
   "source": [
    "# Save the Model"
   ]
  },
  {
   "cell_type": "code",
   "execution_count": 30,
   "id": "44aa0477-7e50-46a7-9846-b0ce3e44a8e1",
   "metadata": {},
   "outputs": [],
   "source": [
    "model.save('model.keras')\n"
   ]
  },
  {
   "cell_type": "markdown",
   "id": "98af2558-f561-4acb-b2c7-1f1925157b7c",
   "metadata": {},
   "source": [
    "# Plot Training History"
   ]
  },
  {
   "cell_type": "code",
   "execution_count": 31,
   "id": "fbb68768-50a4-479a-847e-e4a872a1e79f",
   "metadata": {},
   "outputs": [
    {
     "data": {
      "image/png": "[encoded data removed]",
      "text/plain": [
       "<Figure size 640x480 with 1 Axes>"
      ]
     },
     "metadata": {},
     "output_type": "display_data"
    }
   ],
   "source": [
    "# Plot training history\n",
    "plt.plot(history.history['accuracy'], label='accuracy')\n",
    "plt.plot(history.history['val_accuracy'], label='val_accuracy')\n",
    "plt.xlabel('Epoch')\n",
    "plt.ylabel('Accuracy')\n",
    "plt.ylim([0, 1])\n",
    "plt.legend(loc='lower right')\n",
    "plt.show()\n"
   ]
  },
  {
   "cell_type": "code",
   "execution_count": null,
   "id": "aa9af728-0516-4b7e-9b64-53d24d0a0679",
   "metadata": {},
   "outputs": [],
   "source": []
  }
 ],
 "metadata": {
  "kernelspec": {
   "display_name": "Python 3 (ipykernel)",
   "language": "python",
   "name": "python3"
  },
  "language_info": {
   "codemirror_mode": {
    "name": "ipython",
    "version": 3
   },
   "file_extension": ".py",
   "mimetype": "text/x-python",
   "name": "python",
   "nbconvert_exporter": "python",
   "pygments_lexer": "ipython3",
   "version": "3.8.10"
  }
 },
 "nbformat": 4,
 "nbformat_minor": 5
}
